{
  "nbformat": 4,
  "nbformat_minor": 0,
  "metadata": {
    "colab": {
      "name": "로지스틱 회귀.ipynb",
      "provenance": [],
      "authorship_tag": "ABX9TyOlz01K9ElmG5XDgWXiumRB",
      "include_colab_link": true
    },
    "kernelspec": {
      "name": "python3",
      "display_name": "Python 3"
    },
    "language_info": {
      "name": "python"
    }
  },
  "cells": [
    {
      "cell_type": "markdown",
      "metadata": {
        "id": "view-in-github",
        "colab_type": "text"
      },
      "source": [
        "<a href=\"https://colab.research.google.com/github/joyw93/AI_Project/blob/main/%EB%A1%9C%EC%A7%80%EC%8A%A4%ED%8B%B1_%ED%9A%8C%EA%B7%80.ipynb\" target=\"_parent\"><img src=\"https://colab.research.google.com/assets/colab-badge.svg\" alt=\"Open In Colab\"/></a>"
      ]
    },
    {
      "cell_type": "code",
      "metadata": {
        "id": "DJPpdR2IRwL-"
      },
      "source": [
        "import numpy as np\n",
        "import matplotlib.pyplot as plt\n",
        "from sklearn.preprocessing import StandardScaler\n",
        "import pandas as pd"
      ],
      "execution_count": 34,
      "outputs": []
    },
    {
      "cell_type": "code",
      "metadata": {
        "id": "FC25iE_6TlXy",
        "colab": {
          "base_uri": "https://localhost:8080/",
          "height": 419
        },
        "outputId": "51e99f61-608d-481c-cd3e-6ff036aba634"
      },
      "source": [
        "# n 개의 표본 생성\n",
        "\n",
        "n = 1000\n",
        "m = 3\n",
        "X = np.hstack([ 40+70*np.random.rand(n,1), 80+80*np.random.rand(n,1)])\n",
        "y = np.zeros(n)\n",
        "for i in range(n):\n",
        "  if 2*X[i][0] + X[i][1] > 300:\n",
        "    y[i] = 1\n",
        "  else:\n",
        "    y[i] = 0\n",
        "\n",
        "dfx = pd.DataFrame(X)\n",
        "dfy = pd.DataFrame(y)\n",
        "df = pd.concat([dfy,dfx],axis=1)\n",
        "df.columns = ['심장병 유무','체중', '평균혈압']\n",
        "df=df.astype(int)\n",
        "df"
      ],
      "execution_count": 35,
      "outputs": [
        {
          "output_type": "execute_result",
          "data": {
            "text/html": [
              "<div>\n",
              "<style scoped>\n",
              "    .dataframe tbody tr th:only-of-type {\n",
              "        vertical-align: middle;\n",
              "    }\n",
              "\n",
              "    .dataframe tbody tr th {\n",
              "        vertical-align: top;\n",
              "    }\n",
              "\n",
              "    .dataframe thead th {\n",
              "        text-align: right;\n",
              "    }\n",
              "</style>\n",
              "<table border=\"1\" class=\"dataframe\">\n",
              "  <thead>\n",
              "    <tr style=\"text-align: right;\">\n",
              "      <th></th>\n",
              "      <th>심장병 유무</th>\n",
              "      <th>체중</th>\n",
              "      <th>평균혈압</th>\n",
              "    </tr>\n",
              "  </thead>\n",
              "  <tbody>\n",
              "    <tr>\n",
              "      <th>0</th>\n",
              "      <td>0</td>\n",
              "      <td>66</td>\n",
              "      <td>122</td>\n",
              "    </tr>\n",
              "    <tr>\n",
              "      <th>1</th>\n",
              "      <td>0</td>\n",
              "      <td>51</td>\n",
              "      <td>149</td>\n",
              "    </tr>\n",
              "    <tr>\n",
              "      <th>2</th>\n",
              "      <td>0</td>\n",
              "      <td>52</td>\n",
              "      <td>128</td>\n",
              "    </tr>\n",
              "    <tr>\n",
              "      <th>3</th>\n",
              "      <td>0</td>\n",
              "      <td>93</td>\n",
              "      <td>98</td>\n",
              "    </tr>\n",
              "    <tr>\n",
              "      <th>4</th>\n",
              "      <td>0</td>\n",
              "      <td>97</td>\n",
              "      <td>94</td>\n",
              "    </tr>\n",
              "    <tr>\n",
              "      <th>...</th>\n",
              "      <td>...</td>\n",
              "      <td>...</td>\n",
              "      <td>...</td>\n",
              "    </tr>\n",
              "    <tr>\n",
              "      <th>995</th>\n",
              "      <td>1</td>\n",
              "      <td>103</td>\n",
              "      <td>136</td>\n",
              "    </tr>\n",
              "    <tr>\n",
              "      <th>996</th>\n",
              "      <td>0</td>\n",
              "      <td>73</td>\n",
              "      <td>120</td>\n",
              "    </tr>\n",
              "    <tr>\n",
              "      <th>997</th>\n",
              "      <td>1</td>\n",
              "      <td>95</td>\n",
              "      <td>115</td>\n",
              "    </tr>\n",
              "    <tr>\n",
              "      <th>998</th>\n",
              "      <td>0</td>\n",
              "      <td>73</td>\n",
              "      <td>88</td>\n",
              "    </tr>\n",
              "    <tr>\n",
              "      <th>999</th>\n",
              "      <td>0</td>\n",
              "      <td>65</td>\n",
              "      <td>99</td>\n",
              "    </tr>\n",
              "  </tbody>\n",
              "</table>\n",
              "<p>1000 rows × 3 columns</p>\n",
              "</div>"
            ],
            "text/plain": [
              "     심장병 유무   체중  평균혈압\n",
              "0         0   66   122\n",
              "1         0   51   149\n",
              "2         0   52   128\n",
              "3         0   93    98\n",
              "4         0   97    94\n",
              "..      ...  ...   ...\n",
              "995       1  103   136\n",
              "996       0   73   120\n",
              "997       1   95   115\n",
              "998       0   73    88\n",
              "999       0   65    99\n",
              "\n",
              "[1000 rows x 3 columns]"
            ]
          },
          "metadata": {
            "tags": []
          },
          "execution_count": 35
        }
      ]
    },
    {
      "cell_type": "code",
      "metadata": {
        "id": "aJ3lvncxFonu"
      },
      "source": [
        "# 데이터 표준화\n",
        "\n",
        "scaler = StandardScaler()\n",
        "X = scaler.fit_transform(X)\n",
        "X = np.hstack([np.ones([n,1]),X])\n",
        "y = y.reshape(n,1)"
      ],
      "execution_count": 36,
      "outputs": []
    },
    {
      "cell_type": "code",
      "metadata": {
        "id": "bhz_pRTmEr8O"
      },
      "source": [
        "#sigmoid 함수 정의\n",
        "\n",
        "def sigmoid(z):\n",
        "  return 1/(1 + np.exp(z))"
      ],
      "execution_count": 37,
      "outputs": []
    },
    {
      "cell_type": "code",
      "metadata": {
        "id": "jb43DDwGJl6Z"
      },
      "source": [
        "# 경사하강법 적용\n",
        "\n",
        "def gradient_descent(X):\n",
        "  alpha = 0.001\n",
        "  w = np.zeros([m,1])\n",
        "  for i in range(10000):\n",
        "    del_lw = X.T @ (y - sigmoid(-X @ w))\n",
        "    w = w - alpha * (-del_lw)\n",
        "  return w  "
      ],
      "execution_count": 38,
      "outputs": []
    },
    {
      "cell_type": "code",
      "metadata": {
        "id": "8g_bh89LL8Ed"
      },
      "source": [
        "w = gradient_descent(X)"
      ],
      "execution_count": 39,
      "outputs": []
    },
    {
      "cell_type": "code",
      "metadata": {
        "id": "wNqirV-6IG1r"
      },
      "source": [
        "y_predict = np.zeros(n)\n",
        "\n",
        "for i in range(n):\n",
        "  if sigmoid(-X @ w)[i] > 0.5:\n",
        "    y_predict[i] = 1\n",
        "  else:\n",
        "     y_predict[i] = 0\n"
      ],
      "execution_count": 40,
      "outputs": []
    },
    {
      "cell_type": "code",
      "metadata": {
        "colab": {
          "base_uri": "https://localhost:8080/"
        },
        "id": "cHQqFI23OZtQ",
        "outputId": "2aaa0dd9-84b4-491c-d0c2-b0754ebbbf78"
      },
      "source": [
        "count = 0\n",
        "for i in range(n):\n",
        "  if y[i]==y_predict[i]:\n",
        "    count=count+1\n",
        "\n",
        "accuracy = (count / n) *100\n",
        "\n",
        "print('accuracy: '+str(accuracy)+'%')"
      ],
      "execution_count": 41,
      "outputs": [
        {
          "output_type": "stream",
          "text": [
            "accuracy: 99.9%\n"
          ],
          "name": "stdout"
        }
      ]
    }
  ]
}